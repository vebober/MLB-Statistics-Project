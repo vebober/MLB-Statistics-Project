{
 "cells": [
  {
   "cell_type": "code",
   "execution_count": 1,
   "metadata": {},
   "outputs": [],
   "source": [
    "### Dependencies and Setup\n",
    "import matplotlib.pyplot as plt\n",
    "import pandas as pd\n",
    "import numpy as np\n",
    "\n",
    "salaries_csv_path = \"Data/Salaries.csv\"\n",
    "fielding_csv_path = \"Data/Fielding.csv\"\n",
    "batting_csv_path = \"Data/Batting.csv\"\n",
    "\n",
    "#read CSV files in Dataframes and merge data\n",
    "salaries_df =  pd.read_csv(salaries_csv_path)\n",
    "fielding_df = pd.read_csv(fielding_csv_path)\n",
    "batting_df = pd.read_csv(batting_csv_path)"
   ]
  },
  {
   "cell_type": "code",
   "execution_count": 52,
   "metadata": {},
   "outputs": [
    {
     "data": {
      "text/html": [
       "<div>\n",
       "<style scoped>\n",
       "    .dataframe tbody tr th:only-of-type {\n",
       "        vertical-align: middle;\n",
       "    }\n",
       "\n",
       "    .dataframe tbody tr th {\n",
       "        vertical-align: top;\n",
       "    }\n",
       "\n",
       "    .dataframe thead th {\n",
       "        text-align: right;\n",
       "    }\n",
       "</style>\n",
       "<table border=\"1\" class=\"dataframe\">\n",
       "  <thead>\n",
       "    <tr style=\"text-align: right;\">\n",
       "      <th></th>\n",
       "      <th>Pitchers BA</th>\n",
       "    </tr>\n",
       "    <tr>\n",
       "      <th>yearID</th>\n",
       "      <th></th>\n",
       "    </tr>\n",
       "  </thead>\n",
       "  <tbody>\n",
       "    <tr>\n",
       "      <th>1871</th>\n",
       "      <td>0.270362</td>\n",
       "    </tr>\n",
       "    <tr>\n",
       "      <th>1872</th>\n",
       "      <td>0.263292</td>\n",
       "    </tr>\n",
       "    <tr>\n",
       "      <th>1873</th>\n",
       "      <td>0.261780</td>\n",
       "    </tr>\n",
       "    <tr>\n",
       "      <th>1874</th>\n",
       "      <td>0.255634</td>\n",
       "    </tr>\n",
       "    <tr>\n",
       "      <th>1875</th>\n",
       "      <td>0.226296</td>\n",
       "    </tr>\n",
       "  </tbody>\n",
       "</table>\n",
       "</div>"
      ],
      "text/plain": [
       "        Pitchers BA\n",
       "yearID             \n",
       "1871       0.270362\n",
       "1872       0.263292\n",
       "1873       0.261780\n",
       "1874       0.255634\n",
       "1875       0.226296"
      ]
     },
     "execution_count": 52,
     "metadata": {},
     "output_type": "execute_result"
    }
   ],
   "source": [
    "batting_df.columns\n",
    "pitchers_batting = batting_df[['playerID','yearID','AB','H']]\n",
    "pitchers_batting = pd.DataFrame(pitchers_batting)\n",
    "pitchers_batting['Batting Average'] = pitchers_batting['H']/pitchers_batting['AB']\n",
    "pitchers_batting2 = pitchers_batting.merge(fielding_df,on='playerID')\n",
    "pitchers_batting2 = pitchers_batting2[['playerID','yearID_x','Batting Average','POS']]\n",
    "pitchers_batting2 = pitchers_batting2.rename(columns={'yearID_x':'yearID'})\n",
    "pitchers_batting3 = pitchers_batting2.loc[pitchers_batting2['POS']=='P']\n",
    "working = pitchers_batting3.groupby(['yearID','POS'])\n",
    "summary_table3 = working.mean()['Batting Average']\n",
    "final = pd.DataFrame(summary_table3)\n",
    "final = final.droplevel(level = 1)\n",
    "final = final.rename(columns={'Batting Average':'Pitchers BA'})\n",
    "final.head()\n",
    "\n"
   ]
  },
  {
   "cell_type": "code",
   "execution_count": 55,
   "metadata": {},
   "outputs": [
    {
     "data": {
      "text/html": [
       "<div>\n",
       "<style scoped>\n",
       "    .dataframe tbody tr th:only-of-type {\n",
       "        vertical-align: middle;\n",
       "    }\n",
       "\n",
       "    .dataframe tbody tr th {\n",
       "        vertical-align: top;\n",
       "    }\n",
       "\n",
       "    .dataframe thead th {\n",
       "        text-align: right;\n",
       "    }\n",
       "</style>\n",
       "<table border=\"1\" class=\"dataframe\">\n",
       "  <thead>\n",
       "    <tr style=\"text-align: right;\">\n",
       "      <th></th>\n",
       "      <th>Position Players BA</th>\n",
       "    </tr>\n",
       "    <tr>\n",
       "      <th>yearID</th>\n",
       "      <th></th>\n",
       "    </tr>\n",
       "  </thead>\n",
       "  <tbody>\n",
       "    <tr>\n",
       "      <th>1871</th>\n",
       "      <td>0.283734</td>\n",
       "    </tr>\n",
       "    <tr>\n",
       "      <th>1872</th>\n",
       "      <td>0.296845</td>\n",
       "    </tr>\n",
       "    <tr>\n",
       "      <th>1873</th>\n",
       "      <td>0.293307</td>\n",
       "    </tr>\n",
       "    <tr>\n",
       "      <th>1874</th>\n",
       "      <td>0.271136</td>\n",
       "    </tr>\n",
       "    <tr>\n",
       "      <th>1875</th>\n",
       "      <td>0.246442</td>\n",
       "    </tr>\n",
       "  </tbody>\n",
       "</table>\n",
       "</div>"
      ],
      "text/plain": [
       "        Position Players BA\n",
       "yearID                     \n",
       "1871               0.283734\n",
       "1872               0.296845\n",
       "1873               0.293307\n",
       "1874               0.271136\n",
       "1875               0.246442"
      ]
     },
     "execution_count": 55,
     "metadata": {},
     "output_type": "execute_result"
    }
   ],
   "source": [
    "position_players = pitchers_batting2.loc[pitchers_batting2['POS']!= 'P']\n",
    "position_players = position_players.drop(columns='POS')\n",
    "working2 = position_players.groupby(['yearID'])\n",
    "summary_table4 = working2.mean()['Batting Average']\n",
    "final2 = pd.DataFrame(summary_table4)\n",
    "final2 = final2.rename(columns={'Batting Average':'Position Players BA'})\n",
    "final2.head()"
   ]
  },
  {
   "cell_type": "code",
   "execution_count": 45,
   "metadata": {},
   "outputs": [],
   "source": [
    "new_df = new_df.rename(columns = {'Batting Average':'Pitchers Batting Average'})\n",
    "new_df2= new_df2.rename(columns = {'Batting Average':'Position Players Batting Average'})\n",
    "df3 = new_df.join(new_df2,how='outer')\n",
    "df3['Difference'] = df3['Position Players Batting Average'] - df3['Pitchers Batting Average']\n",
    "average_difference = df3['Difference'].mean()\n",
    "average_difference = type(average_difference"
   ]
  },
  {
   "cell_type": "code",
   "execution_count": 63,
   "metadata": {},
   "outputs": [
    {
     "data": {
      "image/png": "[encoded data removed]",
      "text/plain": [
       "<Figure size 576x576 with 1 Axes>"
      ]
     },
     "metadata": {
      "needs_background": "light"
     },
     "output_type": "display_data"
    },
    {
     "name": "stdout",
     "output_type": "stream",
     "text": [
      "Since 1985, MLB position players have a batting average 0.1207 higher than Pitchers.\n"
     ]
    }
   ],
   "source": [
    "new_df = final.loc[1985:2015,:]\n",
    "new_df2 = final2.loc[1985:2015,:]\n",
    "x_axis = new_df.index\n",
    "data = new_df['Pitchers BA']\n",
    "data2 = new_df2['Position Players BA']\n",
    "fig,ax = plt.subplots(figsize = (8,8))\n",
    "pitcher = ax.plot(x_axis,data,label = 'Pitchers Batting Average',color = 'b')\n",
    "positions = ax.plot(x_axis,data2,label = 'Position Players Batting Average',color = 'r')\n",
    "ax.grid()\n",
    "ax.set_title('Position Players Vs. Pitchers Batting Average',size = 18)\n",
    "ax.set_xlabel('Years',size = 16)\n",
    "ax.set_ylabel('Batting Average',size = 16)\n",
    "ax.legend(loc='best')\n",
    "plt.savefig('Batting_Average.png')\n",
    "plt.show()\n",
    "print(f'Since 1985, MLB position players have a batting average {average_difference:.4g} higher than Pitchers.')"
   ]
  },
  {
   "cell_type": "code",
   "execution_count": null,
   "metadata": {},
   "outputs": [],
   "source": [
    "\n",
    "\n"
   ]
  }
 ],
 "metadata": {
  "kernelspec": {
   "display_name": "Python 3",
   "language": "python",
   "name": "python3"
  },
  "language_info": {
   "codemirror_mode": {
    "name": "ipython",
    "version": 3
   },
   "file_extension": ".py",
   "mimetype": "text/x-python",
   "name": "python",
   "nbconvert_exporter": "python",
   "pygments_lexer": "ipython3",
   "version": "3.7.3"
  }
 },
 "nbformat": 4,
 "nbformat_minor": 2
}
